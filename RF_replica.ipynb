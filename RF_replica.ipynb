{
 "cells": [
  {
   "cell_type": "code",
   "execution_count": 8,
   "metadata": {},
   "outputs": [],
   "source": [
    "import sklearn \n",
    "from sklearn.model_selection import train_test_split #train / test split\n",
    "from sklearn.ensemble import RandomForestClassifier #Model \n",
    "import matplotlib.pyplot as plt \n",
    "import numpy as np \n",
    "import os \n",
    "import pandas as pd \n",
    "from sklearn.metrics import confusion_matrix #Metrics \n",
    "from sklearn.model_selection import cross_val_score #Cross-validation\n",
    "from sklearn.model_selection import KFold\n",
    "from sklearn.metrics import classification_report\n",
    "from sklearn.metrics import roc_auc_score #ROC cure \n",
    "from sklearn.metrics import roc_curve, auc\n",
    "from sklearn.model_selection import cross_val_score\n",
    "from mpl_toolkits.mplot3d import Axes3D "
   ]
  },
  {
   "cell_type": "code",
   "execution_count": 2,
   "metadata": {},
   "outputs": [
    {
     "name": "stdout",
     "output_type": "stream",
     "text": [
      "There are 3644 rows and 197 columns\n"
     ]
    }
   ],
   "source": [
    "#CSV read \n",
    "for dirname, _, filenames in os.walk(\"C:/Users/aleja/OneDrive/Documents/4rt LENGUAS APLICADAS/TFG/dataframe_def.csv\"):\n",
    "    for filename in filenames:\n",
    "        print(os.path.join(dirname, filename))     \n",
    "nRowsRead = None #Número de filas que leerá el programa. Si se quiere leer todo, entonces None\n",
    "df = pd.read_csv('C:/Users/aleja/OneDrive/Documents/4rt LENGUAS APLICADAS/TFG/dataframe_def.csv', delimiter=',', nrows = nRowsRead)\n",
    "df.dataframeName = 'Dyt-desktop.csv'\n",
    "nRow, nCol = df.shape\n",
    "print(f'There are {nRow} rows and {nCol} columns')\n"
   ]
  },
  {
   "cell_type": "code",
   "execution_count": 3,
   "metadata": {},
   "outputs": [],
   "source": [
    "#Train/Test split \n",
    "y_axis= df.iloc[:,[-1]]\n",
    "y= y_axis.to_numpy().flatten()\n",
    "X_axis= df.drop(y_axis.columns,axis = 1)\n",
    "X= X_axis.values\n",
    "X_train, X_test, y_train, y_test = train_test_split(X, y, test_size=0.2)\n",
    "X_train, X_val, y_train, y_val = train_test_split(X_train, y_train, test_size=0.2)"
   ]
  },
  {
   "cell_type": "code",
   "execution_count": 6,
   "metadata": {},
   "outputs": [
    {
     "name": "stdout",
     "output_type": "stream",
     "text": [
      "[[654   1]\n",
      " [ 69   5]]\n",
      "Recall:0.06756756756756757\n"
     ]
    }
   ],
   "source": [
    "#Random forest \n",
    "rf= RandomForestClassifier(n_estimators=200, class_weight='balanced')\n",
    "rf.fit(X_train, y_train)\n",
    "rf.predict(X_test)\n",
    "rf.score(X_test, y_test)\n",
    "y_pred= rf.predict(X_test)\n",
    "\n",
    "cm= confusion_matrix(y_test, y_pred)\n",
    "print(cm)\n",
    "\n",
    "tn, fp, fn, tp = confusion_matrix(y_test, rf.predict(X_test)).ravel()\n",
    "recall= float(tp) / (tp + fn)\n",
    "print('Recall:{}'.format(recall))"
   ]
  },
  {
   "cell_type": "code",
   "execution_count": 5,
   "metadata": {},
   "outputs": [
    {
     "name": "stdout",
     "output_type": "stream",
     "text": [
      "Recall mean:0.6590167914641872\n"
     ]
    }
   ],
   "source": [
    "#Validation of model \n",
    "kf = KFold(n_splits=10, shuffle=True)\n",
    "scores = [] \n",
    "for train_idx, val_idx in kf.split(X):\n",
    "    X_train_k, y_train_k = X[train_idx], y[train_idx]\n",
    "    X_val_k, y_val_k = X[val_idx], y[val_idx]\n",
    "    rf= RandomForestClassifier(n_estimators=200, class_weight='balanced')\n",
    "    rf.fit(X_train, y_train)\n",
    "    y_pred_k= rf.predict(X_val_k)\n",
    "    cm= confusion_matrix(y_val_k, y_pred_k)\n",
    "    tn, fp, fn, tp = confusion_matrix(y_val_k, y_pred_k).ravel()\n",
    "    recall= float(tp) / (tp + fn)\n",
    "    scores.append(recall)\n",
    "\n",
    "print('Recall mean:{}'.format(np.mean(scores)))"
   ]
  },
  {
   "cell_type": "code",
   "execution_count": 9,
   "metadata": {},
   "outputs": [
    {
     "data": {
      "image/png": "[encoded data removed]",
      "text/plain": [
       "<Figure size 432x288 with 1 Axes>"
      ]
     },
     "metadata": {
      "needs_background": "light"
     },
     "output_type": "display_data"
    }
   ],
   "source": [
    "#ROC curve \n",
    "y_score= rf.predict_proba(X_test)[:, 1]\n",
    "fpr, tpr, _ = roc_curve(y_test, y_score, drop_intermediate=True)\n",
    "roc_auc = auc(fpr, tpr)\n",
    "\n",
    "#Graphic  \n",
    "plt.figure()\n",
    "plt.plot(fpr, tpr, color='darkorange', lw=2, label='ROC curve (area = %0.2f)' % roc_auc)\n",
    "plt.plot([0, 1], [0, 1], color='navy', lw=2, linestyle='--')\n",
    "plt.xlim([0.0, 1.0])\n",
    "plt.ylim([0.0, 1.05])\n",
    "plt.xlabel('False Positive Rate')\n",
    "plt.ylabel('True Positive Rate')\n",
    "plt.title('Receiver operating characteristic example')\n",
    "plt.legend(loc=\"lower right\")\n",
    "plt.show()"
   ]
  }
 ],
 "metadata": {
  "kernelspec": {
   "display_name": "base",
   "language": "python",
   "name": "python3"
  },
  "language_info": {
   "codemirror_mode": {
    "name": "ipython",
    "version": 3
   },
   "file_extension": ".py",
   "mimetype": "text/x-python",
   "name": "python",
   "nbconvert_exporter": "python",
   "pygments_lexer": "ipython3",
   "version": "3.9.12"
  },
  "orig_nbformat": 4
 },
 "nbformat": 4,
 "nbformat_minor": 2
}
