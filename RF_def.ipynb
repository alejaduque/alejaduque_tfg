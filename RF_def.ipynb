{
 "cells": [
  {
   "cell_type": "code",
   "execution_count": 19,
   "metadata": {},
   "outputs": [],
   "source": [
    "import sklearn \n",
    "from sklearn.model_selection import train_test_split #Train/test split \n",
    "from sklearn.ensemble import RandomForestClassifier #Model\n",
    "import matplotlib.pyplot as plt \n",
    "import numpy as np \n",
    "import os \n",
    "import pandas as pd \n",
    "\n",
    "from sklearn.model_selection import cross_val_score #Cross-validation\n",
    "from sklearn.model_selection import GridSearchCV \n",
    "from sklearn.metrics import confusion_matrix  #Metrics\n",
    "from sklearn.metrics import f1_score \n",
    "from sklearn.metrics import classification_report\n",
    "from sklearn.metrics import roc_auc_score #ROC curve \n",
    "from sklearn.metrics import roc_curve, auc\n",
    "from sklearn.model_selection import cross_val_score\n",
    "from mpl_toolkits.mplot3d import Axes3D "
   ]
  },
  {
   "cell_type": "code",
   "execution_count": 20,
   "metadata": {},
   "outputs": [
    {
     "name": "stdout",
     "output_type": "stream",
     "text": [
      "There are 3644 rows and 197 columns\n"
     ]
    }
   ],
   "source": [
    "#CSV read \n",
    "for dirname, _, filenames in os.walk(\"C:/Users/aleja/OneDrive/Documents/4rt LENGUAS APLICADAS/TFG/dataframe_def.csv\"):\n",
    "    for filename in filenames:\n",
    "        print(os.path.join(dirname, filename))     \n",
    "nRowsRead = None #Número de filas que leerá el programa. Si se quiere leer todo, entonces None\n",
    "df = pd.read_csv(\"C:/Users/aleja/OneDrive/Documents/4rt LENGUAS APLICADAS/TFG/MODELS/dataframe_def.csv\", delimiter=',', nrows = nRowsRead)\n",
    "df.dataframeName = 'Dyt-desktop.csv'\n",
    "nRow, nCol = df.shape\n",
    "print(f'There are {nRow} rows and {nCol} columns')\n"
   ]
  },
  {
   "cell_type": "code",
   "execution_count": 21,
   "metadata": {},
   "outputs": [],
   "source": [
    "#Balancing data \n",
    "NDys_df= df[df['Dyslexia']==0] #3252 samples with 196 features\n",
    "Dys_df= df[df['Dyslexia']==1] #392 samples with 196 features\n",
    "dys_tot, _ = Dys_df.shape\n",
    "N_NDys= NDys_df.sample(dys_tot, random_state=10)\n",
    "df= pd.merge(N_NDys, Dys_df, how='outer')"
   ]
  },
  {
   "cell_type": "code",
   "execution_count": 22,
   "metadata": {},
   "outputs": [],
   "source": [
    "#Train/Test split \n",
    "y_axis= df.iloc[:,[-1]]\n",
    "y= y_axis.to_numpy().flatten() #Labels (class 0 and 1)\n",
    "X_axis= df.drop(y_axis.columns,axis = 1)\n",
    "X= X_axis.values\n",
    "X_train, X_test, y_train, y_test = train_test_split(X, y, random_state=10)\n",
    "X_train, X_val, y_train, y_val = train_test_split(X_train, y_train, random_state=10)\n",
    " "
   ]
  },
  {
   "cell_type": "code",
   "execution_count": 23,
   "metadata": {},
   "outputs": [
    {
     "name": "stdout",
     "output_type": "stream",
     "text": [
      "[[77 24]\n",
      " [20 75]]\n",
      "Recall:0.7894736842105263\n"
     ]
    }
   ],
   "source": [
    "#Model\n",
    "rf= RandomForestClassifier(n_estimators=200, class_weight='balanced')\n",
    "rf.fit(X_train, y_train)\n",
    "rf.predict(X_test)\n",
    "rf.score(X_test, y_test)\n",
    "y_pred= rf.predict(X_test)\n",
    "cm= confusion_matrix(y_test, y_pred)\n",
    "tn, fp, fn, tp= cm.ravel()\n",
    "recall= float(tp) / (tp + fn)\n",
    "print(cm)\n",
    "print('Recall:{}'.format(recall))"
   ]
  },
  {
   "cell_type": "code",
   "execution_count": 24,
   "metadata": {},
   "outputs": [
    {
     "name": "stdout",
     "output_type": "stream",
     "text": [
      "número de arboles optimo:133\n"
     ]
    },
    {
     "data": {
      "text/plain": [
       "RandomForestClassifier(class_weight='balanced_subsample', n_estimators=133)"
      ]
     },
     "execution_count": 24,
     "metadata": {},
     "output_type": "execute_result"
    }
   ],
   "source": [
    "#Cross-validation\n",
    "K_list = np.round(np.linspace(start=1, stop=500, num=50)).astype(int) \n",
    "recall = np.zeros(len(K_list))\n",
    "\n",
    "for i in range(len(K_list)):\n",
    "    rf = RandomForestClassifier(n_estimators=K_list[i], bootstrap=True, class_weight='balanced_subsample')\n",
    "    rf.fit(X_train, y_train)\n",
    "    tn, fp, fn, tp = confusion_matrix(y_val, rf.predict(X_val)).ravel()\n",
    "    recall[i] = float(tp) / (tp + fn)\n",
    "\n",
    "index_max = np.argmax(recall)\n",
    "\n",
    "K_opt= K_list[index_max] #Best number of trees \n",
    "\n",
    "print('número de arboles optimo:{}'.format(K_opt))\n",
    "\n",
    "rf= RandomForestClassifier(n_estimators=K_opt, bootstrap=True, class_weight='balanced_subsample')\n",
    "rf.fit(X_train, y_train)\n"
   ]
  },
  {
   "cell_type": "code",
   "execution_count": 25,
   "metadata": {},
   "outputs": [
    {
     "data": {
      "image/png": "[encoded data removed]",
      "text/plain": [
       "<Figure size 432x288 with 1 Axes>"
      ]
     },
     "metadata": {
      "needs_background": "light"
     },
     "output_type": "display_data"
    },
    {
     "name": "stdout",
     "output_type": "stream",
     "text": [
      "Recall mean:0.7625316455696204\n",
      "f1 score:0.7700534759358288\n",
      "[[81 23]\n",
      " [20 72]]\n"
     ]
    }
   ],
   "source": [
    "#Metrics \n",
    "plt.plot(K_list, recall)\n",
    "mean_rec = recall.mean()\n",
    "plt.plot(K_list, mean_rec*np.ones_like(K_list))\n",
    "plt.ylim([0, 1.05])\n",
    "plt.show()\n",
    "y_pred= rf.predict(X_test)\n",
    "cm= confusion_matrix(y_pred,y_test)\n",
    "print('Recall mean:{}'.format(mean_rec))\n",
    "print('f1 score:{}'.format(f1_score(y_pred, y_test)))\n",
    "print(cm)"
   ]
  },
  {
   "cell_type": "code",
   "execution_count": 26,
   "metadata": {},
   "outputs": [
    {
     "name": "stdout",
     "output_type": "stream",
     "text": [
      "Recall mean:0.7982735250097253\n"
     ]
    }
   ],
   "source": [
    "#Validation of final model\n",
    "\n",
    "from sklearn.model_selection import KFold\n",
    "kf = KFold(n_splits=10, shuffle=True)\n",
    "scores = [] \n",
    "for train_idx, val_idx in kf.split(X):\n",
    "    X_train_k, y_train_k = X[train_idx], y[train_idx]\n",
    "    X_val_k, y_val_k = X[val_idx], y[val_idx]\n",
    "    rf= RandomForestClassifier(n_estimators=K_opt, class_weight='balanced')\n",
    "    rf.fit(X_train_k, y_train_k)\n",
    "    y_pred_k= rf.predict(X_val_k)\n",
    "    cm= confusion_matrix(y_val_k, y_pred_k)\n",
    "    tn, fp, fn, tp = confusion_matrix(y_val_k, y_pred_k).ravel()\n",
    "    recall= float(tp) / (tp + fn)\n",
    "    scores.append(recall)\n",
    "\n",
    "print('Recall mean:{}'.format(np.mean(scores)))"
   ]
  },
  {
   "cell_type": "code",
   "execution_count": 27,
   "metadata": {},
   "outputs": [
    {
     "name": "stdout",
     "output_type": "stream",
     "text": [
      "Recall:0.7578947368421053\n",
      "f1:0.7741935483870969\n"
     ]
    }
   ],
   "source": [
    "#Final model\n",
    "rf= RandomForestClassifier(n_estimators=K_opt, bootstrap=True, class_weight='balanced_subsample')\n",
    "rf.fit(X_train, y_train)\n",
    "y_pred= rf.predict(X_test)\n",
    "cm= confusion_matrix(y_test, y_pred)\n",
    "tn, fp, fn, tp = confusion_matrix(y_test, y_pred).ravel()\n",
    "recall= float(tp) / (tp + fn)\n",
    "f1score= f1_score(y_pred, y_test)\n",
    "print('Recall:{}'.format(recall))\n",
    "print('f1:{}'.format(f1score))"
   ]
  },
  {
   "cell_type": "code",
   "execution_count": 28,
   "metadata": {},
   "outputs": [
    {
     "name": "stdout",
     "output_type": "stream",
     "text": [
      "[0.         0.         0.         0.         0.         0.00990099\n",
      " 0.00990099 0.00990099 0.00990099 0.00990099 0.01980198 0.01980198\n",
      " 0.02970297 0.02970297 0.02970297 0.03960396 0.03960396 0.03960396\n",
      " 0.03960396 0.04950495 0.05940594 0.08910891 0.08910891 0.08910891\n",
      " 0.08910891 0.08910891 0.0990099  0.0990099  0.0990099  0.10891089\n",
      " 0.13861386 0.15841584 0.16831683 0.18811881 0.21782178 0.26732673\n",
      " 0.30693069 0.31683168 0.31683168 0.34653465 0.36633663 0.38613861\n",
      " 0.40594059 0.41584158 0.43564356 0.47524752 0.48514851 0.52475248\n",
      " 0.54455446 0.57425743 0.57425743 0.59405941 0.6039604  0.63366337\n",
      " 0.66336634 0.68316832 0.68316832 0.69306931 0.72277228 0.74257426\n",
      " 0.75247525 0.77227723 0.8019802  0.82178218 0.83168317 0.87128713\n",
      " 0.9009901  0.94059406 0.97029703 1.        ]\n"
     ]
    },
    {
     "data": {
      "image/png": "[encoded data removed]",
      "text/plain": [
       "<Figure size 432x288 with 1 Axes>"
      ]
     },
     "metadata": {
      "needs_background": "light"
     },
     "output_type": "display_data"
    }
   ],
   "source": [
    "#ROC curve \n",
    "y_score= rf.predict_proba(X_test)[:, 1]\n",
    "fpr, tpr, _ = roc_curve(y_test, y_score, drop_intermediate=True)\n",
    "roc_auc = auc(fpr, tpr)\n",
    "print(fpr)\n",
    "#Graphic  \n",
    "plt.figure()\n",
    "plt.plot(fpr, tpr, color='darkorange', lw=2, label='ROC curve (area = %0.2f)' % roc_auc)\n",
    "plt.plot([0, 1], [0, 1], color='navy', lw=2, linestyle='--')\n",
    "plt.xlim([0.0, 1.0])\n",
    "plt.ylim([0.0, 1.05])\n",
    "plt.xlabel('False Positive Rate')\n",
    "plt.ylabel('True Positive Rate')\n",
    "plt.title('Receiver operating characteristic example')\n",
    "plt.legend(loc=\"lower right\")\n",
    "plt.savefig('recall_rf.png')\n",
    "plt.show()\n"
   ]
  },
  {
   "cell_type": "code",
   "execution_count": 29,
   "metadata": {},
   "outputs": [],
   "source": [
    "dict= {'y_score': y_score, 'y_test': y_test}\n",
    "df_o= pd.DataFrame.from_dict(dict)\n",
    "df_o.to_csv('rf_results_2.csv')\n"
   ]
  }
 ],
 "metadata": {
  "kernelspec": {
   "display_name": "base",
   "language": "python",
   "name": "python3"
  },
  "language_info": {
   "codemirror_mode": {
    "name": "ipython",
    "version": 3
   },
   "file_extension": ".py",
   "mimetype": "text/x-python",
   "name": "python",
   "nbconvert_exporter": "python",
   "pygments_lexer": "ipython3",
   "version": "3.9.12"
  },
  "orig_nbformat": 4,
  "vscode": {
   "interpreter": {
    "hash": "6c0453e26b24401ab92fc4c9258d0e6c3ac378e13e0e842060a1489ed820d196"
   }
  }
 },
 "nbformat": 4,
 "nbformat_minor": 2
}
