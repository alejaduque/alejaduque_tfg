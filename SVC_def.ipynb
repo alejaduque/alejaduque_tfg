{
 "cells": [
  {
   "cell_type": "code",
   "execution_count": 7,
   "metadata": {},
   "outputs": [],
   "source": [
    "import sklearn \n",
    "from sklearn.model_selection import train_test_split #train/test split \n",
    "from sklearn import preprocessing #Preprocessing of data \n",
    "from sklearn.preprocessing import StandardScaler #Scaler\n",
    "from sklearn.decomposition import PCA #PCA\n",
    "from sklearn.svm import SVC #Model\n",
    "import matplotlib.pyplot as plt \n",
    "import numpy as np \n",
    "import os \n",
    "import pandas as pd \n",
    "from sklearn.metrics import confusion_matrix #Metrics \n",
    "from sklearn.metrics import f1_score \n",
    "from sklearn.model_selection import cross_val_score #Cross-validation\n",
    "from sklearn.model_selection import KFold\n",
    "from sklearn.metrics import classification_report\n",
    "from sklearn.metrics import roc_auc_score #ROC curve \n",
    "from sklearn.metrics import roc_curve, auc\n",
    "\n",
    "RANDOM_SEED = 1\n",
    "\n",
    "np.random.seed(RANDOM_SEED)\n"
   ]
  },
  {
   "cell_type": "code",
   "execution_count": 8,
   "metadata": {},
   "outputs": [
    {
     "name": "stdout",
     "output_type": "stream",
     "text": [
      "There are 3644 rows and 197 columns\n"
     ]
    }
   ],
   "source": [
    "#CSV read \n",
    "nRowsRead = None #Number of lines the dataframe reads. In case of wanting you read certain lines, write number. If not, 'None'.\n",
    "df = pd.read_csv(\"Path-to-csv\", delimiter=',', nrows = nRowsRead)\n",
    "df.dataframeName = 'Dyt-desktop.csv'\n",
    "nRow, nCol = df.shape\n",
    "print(f'There are {nRow} rows and {nCol} columns') "
   ]
  },
  {
   "cell_type": "code",
   "execution_count": 9,
   "metadata": {},
   "outputs": [],
   "source": [
    "#Balancing data \n",
    "NDys_df= df[df['Dyslexia']==0] #3252 samples with 196 features\n",
    "Dys_df= df[df['Dyslexia']==1] #392 samples with 196 features\n",
    "dys_tot, _ = Dys_df.shape\n",
    "N_NDys= NDys_df.sample(dys_tot)\n",
    "df= pd.merge(N_NDys, Dys_df, how='outer')\n"
   ]
  },
  {
   "cell_type": "code",
   "execution_count": 10,
   "metadata": {},
   "outputs": [],
   "source": [
    "#Train/Test split \n",
    "y_axis= df.iloc[:,[-1]]\n",
    "y= y_axis.to_numpy().flatten() #Labels (class 0 and 1)\n",
    "X_axis= df.drop(y_axis.columns,axis = 1)\n",
    "X= X_axis.values\n",
    "X_train, X_test, y_train, y_test = train_test_split(X, y, test_size=0.2)\n",
    "X_train, X_val, y_train, y_val = train_test_split(X_train, y_train, test_size=0.2)\n"
   ]
  },
  {
   "cell_type": "code",
   "execution_count": 11,
   "metadata": {},
   "outputs": [
    {
     "name": "stdout",
     "output_type": "stream",
     "text": [
      "Transformed shape:(501, 196)\n"
     ]
    }
   ],
   "source": [
    "#Preprocessing data \n",
    "scaler= StandardScaler()\n",
    "scaler.fit(X_train) \n",
    "X_train= scaler.fit_transform(X_train)\n",
    "print('Transformed shape:{}'.format(X_train.shape))\n",
    "X_test= scaler.transform(X_test)\n",
    "X_val= scaler.transform(X_val)\n",
    "\n",
    "# PCA \n",
    "# pca= PCA(n_components='mle', whiten=True)\n",
    "# X_train= pca.fit_transform(X_train)\n",
    "# X_test= pca.transform(X_test) \n",
    "# X_val= pca.transform(X_val)\n"
   ]
  },
  {
   "cell_type": "code",
   "execution_count": 12,
   "metadata": {},
   "outputs": [
    {
     "name": "stdout",
     "output_type": "stream",
     "text": [
      "Max. recall:0.8245614035087719\n",
      "Optimal number of components:40\n",
      "Optimal C: 1000.0\n",
      "Optimal gamma:1e-06\n"
     ]
    }
   ],
   "source": [
    "#Cross-validation recall\n",
    "\n",
    "C_list= np.logspace(-6, 4, 11)\n",
    "gamma_list= np.logspace(-6, 4, 11)\n",
    "components_list= np.round(np.linspace(start=1, stop=196, num=11)).astype(int)\n",
    "recall = np.zeros((len(C_list), len(gamma_list), len(components_list)))\n",
    "\n",
    "\n",
    "for i in range(len(C_list)):\n",
    "     for j in range(len(gamma_list)):\n",
    "          for k in range(len(components_list)):\n",
    "               pca= PCA(n_components=components_list[k], whiten=True)\n",
    "               X_train_pca= pca.fit_transform(X_train)\n",
    "               X_test_pca= pca.transform(X_test)\n",
    "               X_val_pca= pca.transform(X_val)\n",
    "               svc= SVC(C=C_list[i], gamma=gamma_list[j], kernel='rbf')\n",
    "               svc.fit(X_train_pca, y_train)\n",
    "               y_pred= svc.predict(X_val_pca)\n",
    "               tn, fp, fn, tp = confusion_matrix(y_val, y_pred).ravel()\n",
    "               recall[i, j, k] = float(tp) / (tp + fn)\n",
    "               \n",
    "\n",
    "\n",
    "index_max = np.unravel_index(np.argmax(recall), recall.shape)\n",
    "\n",
    "print('Max. recall:{}'.format(recall[index_max]))\n",
    "C_opt = C_list[index_max[0]]\n",
    "gamma_opt = gamma_list[index_max[1]]\n",
    "comp_opt= components_list[index_max[2]]\n",
    "print('Optimal number of components:{}'.format(comp_opt))\n",
    "print('Optimal C: {}'.format(C_opt))\n",
    "print('Optimal gamma:{}'.format(gamma_opt))"
   ]
  },
  {
   "cell_type": "code",
   "execution_count": 13,
   "metadata": {},
   "outputs": [
    {
     "name": "stdout",
     "output_type": "stream",
     "text": [
      "Max. Recall:0.8771929824561403\n",
      "Optimal C: 600.0\n",
      "Optimal gamma:1.6380952380952382e-06\n",
      "Optimal number of components:20\n",
      "(1, 17, 1)\n"
     ]
    }
   ],
   "source": [
    "#Cross-validation of C and gamma (recall)\n",
    "puntos = 11\n",
    "\n",
    "gamma_list_1= np.linspace(start=gamma_opt/10, stop=gamma_opt*2, num=puntos*2)\n",
    "C_list_1=np.linspace(start=C_opt-(C_opt/2), stop=C_opt+(C_opt/2), num=puntos)\n",
    "compt_list_1= np.round(np.linspace(start=1, stop=196, num=puntos)).astype(int)\n",
    "recall = np.zeros((len(C_list_1), len(gamma_list_1), len(compt_list_1)))\n",
    "\n",
    "for i in range(len(C_list_1)):\n",
    "     for j in range(len(gamma_list_1)):\n",
    "               for k in range(len(compt_list_1)):\n",
    "                     pca= PCA(n_components=compt_list_1[k], whiten=True)\n",
    "                     X_train_pca= pca.fit_transform(X_train)\n",
    "                     X_test_pca= pca.transform(X_test)\n",
    "                     X_val_pca= pca.transform(X_val)\n",
    "                     svc= SVC(C=C_list_1[i], gamma=gamma_list_1[j], kernel='rbf')\n",
    "                     svc.fit(X_train_pca, y_train)\n",
    "                     tn, fp, fn, tp = confusion_matrix(y_val, svc.predict(X_val_pca)).ravel()\n",
    "                     recall[i, j, k] = float(tp) / (tp + fn)\n",
    "\n",
    "index_max = np.unravel_index(np.argmax(recall), recall.shape)\n",
    "\n",
    "print('Max. Recall:{}'.format(recall[index_max]))\n",
    "gamma_opt_1 = gamma_list_1[index_max[1]]\n",
    "c_opt_1= C_list_1[index_max[0]]\n",
    "compt_opt_1= compt_list_1[index_max[2]]\n",
    "print('Optimal C: {}'.format(c_opt_1))\n",
    "print('Optimal gamma:{}'.format(gamma_opt_1))\n",
    "print('Optimal number of components:{}'.format(compt_opt_1))\n",
    "print(index_max)"
   ]
  },
  {
   "cell_type": "code",
   "execution_count": 14,
   "metadata": {},
   "outputs": [
    {
     "name": "stdout",
     "output_type": "stream",
     "text": [
      "Max. F1: 0.7479674796747967\n",
      "Optimal number of components: 60\n",
      "Optimal C: 1000.0\n",
      "Optimal gamma: 1e-06\n"
     ]
    }
   ],
   "source": [
    "#Cross-validation (f1)\n",
    "C_list2 = np.logspace(-6, 4, 11)\n",
    "gamma_list2 = np.logspace(-6, 4, 11)\n",
    "components_list2= np.round(np.linspace(start=1, stop=196, num=11)).astype(int)\n",
    "f1_max = np.zeros((len(C_list2), len(gamma_list2), len(components_list2)))\n",
    "\n",
    "for i in range(len(C_list2)):\n",
    "    for j in range(len(gamma_list2)):\n",
    "        for k in range(len(components_list2)):\n",
    "            pca = PCA(n_components=components_list2[k], whiten=True)\n",
    "            X_train_pca = pca.fit_transform(X_train)\n",
    "            X_test_pca = pca.transform(X_test)\n",
    "            X_val_pca = pca.transform(X_val)\n",
    "            svc = SVC(C=C_list2[i], gamma=gamma_list2[j], kernel='rbf')\n",
    "            svc.fit(X_train_pca, y_train)\n",
    "            y_pred = svc.predict(X_val_pca)\n",
    "            tn, fp, fn, tp = confusion_matrix(y_val, y_pred).ravel()\n",
    "            f1score_value = f1_score(y_val, y_pred)\n",
    "            f1_max[i, j, k] = f1score_value\n",
    "    \n",
    "\n",
    "index_max_2 = np.unravel_index(np.argmax(f1_max), f1_max.shape)\n",
    "gamma_opt_2 = gamma_list2[index_max_2[1]]\n",
    "c_opt_2= C_list2[index_max_2[0]]\n",
    "compt_opt_2= components_list2[index_max_2[2]]\n",
    "           \n",
    "print('Max. F1: {}'.format(f1_max[index_max_2]))\n",
    "print('Optimal number of components: {}'.format(compt_opt_2))\n",
    "print('Optimal C: {}'.format(c_opt_2))\n",
    "print('Optimal gamma: {}'.format(gamma_opt_2))\n"
   ]
  },
  {
   "cell_type": "code",
   "execution_count": 15,
   "metadata": {},
   "outputs": [
    {
     "name": "stdout",
     "output_type": "stream",
     "text": [
      "Recall mean: 0.9689966243992909\n",
      "Recall standard deviation: 0.014981105583152406\n"
     ]
    }
   ],
   "source": [
    "#Validation of model (recall)\n",
    "\n",
    "kf = KFold(n_splits=10, shuffle=True)\n",
    "scores = [] \n",
    "for train_idx, val_idx in kf.split(X):\n",
    "    X_train_k, y_train_k = X[train_idx], y[train_idx]\n",
    "    X_val_k, y_val_k = X[val_idx], y[val_idx]\n",
    "    pca= PCA(n_components=compt_opt_1, whiten=True)\n",
    "    X_train_pca= pca.fit_transform(X_train_k)\n",
    "    X_val_pca= pca.transform(X_val_k)\n",
    "    svc= SVC(C=c_opt_1, gamma=gamma_opt_1, kernel='rbf', class_weight='balanced')\n",
    "    svc.fit(X_train_pca, y_train_k)\n",
    "    y_pred_k= svc.predict(X_val_pca)\n",
    "    cm= confusion_matrix(y_val_k, y_pred_k)\n",
    "    tn, fp, fn, tp = confusion_matrix(y_val_k, y_pred_k).ravel()\n",
    "    recall_v = float(tp) / (tp + fn)\n",
    "    scores.append(recall_v)\n",
    "\n",
    "print('Recall mean: {}'.format(np.mean(scores))) \n",
    "print('Recall standard deviation: {}'.format(np.std(scores)))\n"
   ]
  },
  {
   "cell_type": "code",
   "execution_count": 16,
   "metadata": {},
   "outputs": [
    {
     "name": "stdout",
     "output_type": "stream",
     "text": [
      "F1 score mean:0.6471314068890079\n",
      "Recall mean: 0.7817918877521451\n",
      "Recall standard deviation: 0.03722071912385248\n"
     ]
    }
   ],
   "source": [
    "#Validation of final model (F1)\n",
    "\n",
    "kf = KFold(n_splits=10, shuffle=True)\n",
    "scores = [] \n",
    "scores_f1= []\n",
    "for train_idx, val_idx in kf.split(X):\n",
    "    X_train_k, y_train_k = X[train_idx], y[train_idx]\n",
    "    X_val_k, y_val_k = X[val_idx], y[val_idx]\n",
    "    pca= PCA(n_components=compt_opt_2, whiten=True)\n",
    "    X_train_pca= pca.fit_transform(X_train_k)\n",
    "    X_val_pca= pca.transform(X_val_k)\n",
    "    svc= SVC(C=c_opt_2, gamma=gamma_opt_2, kernel='rbf', class_weight='balanced')\n",
    "    svc.fit(X_train_pca, y_train_k)\n",
    "    y_pred_k= svc.predict(X_val_pca)\n",
    "    cm= confusion_matrix(y_val_k, y_pred_k)\n",
    "    tn, fp, fn, tp = confusion_matrix(y_val_k, y_pred_k).ravel()\n",
    "    recall_v = float(tp) / (tp + fn)\n",
    "    f1sco= f1_score(y_pred_k, y_val_k)\n",
    "    scores.append(recall_v)\n",
    "    scores_f1.append(f1sco)\n",
    "\n",
    "print('F1 score mean:{}'.format(np.mean(scores_f1)))\n",
    "print('Recall mean: {}'.format(np.mean(scores))) \n",
    "print('Recall standard deviation: {}'.format(np.std(scores)))"
   ]
  },
  {
   "cell_type": "code",
   "execution_count": 17,
   "metadata": {},
   "outputs": [
    {
     "name": "stdout",
     "output_type": "stream",
     "text": [
      "[[42 28]\n",
      " [21 66]]\n",
      "Recall:0.7586206896551724\n",
      "F1 score:0.729281767955801\n"
     ]
    }
   ],
   "source": [
    "#Final model (Recall)\n",
    "\n",
    "pca= PCA(n_components=compt_opt_1, whiten=True)\n",
    "X_train_pca= pca.fit_transform(X_train)\n",
    "X_test_pca= pca.transform(X_test)\n",
    "X_val_pca= pca.transform(X_val)\n",
    "svc= SVC(C=c_opt_1, gamma=gamma_opt_1, kernel='rbf', class_weight='balanced')\n",
    "svc.fit(X_train_pca, y_train)\n",
    "y_pred= svc.predict(X_test_pca)\n",
    "cm= confusion_matrix(y_test, y_pred)\n",
    "print(cm)\n",
    "\n",
    "\n",
    "tn, fp, fn, tp = cm.ravel()\n",
    "recall= float(tp) / (tp + fn)\n",
    "print('Recall:{}'.format(recall))\n",
    "f1= f1_score(y_test, y_pred)\n",
    "print('F1 score:{}'.format(f1))\n"
   ]
  },
  {
   "cell_type": "code",
   "execution_count": 18,
   "metadata": {},
   "outputs": [
    {
     "name": "stdout",
     "output_type": "stream",
     "text": [
      "[[44 26]\n",
      " [21 66]]\n",
      "              precision    recall  f1-score   support\n",
      "\n",
      "           0       0.68      0.63      0.65        70\n",
      "           1       0.72      0.76      0.74        87\n",
      "\n",
      "    accuracy                           0.70       157\n",
      "   macro avg       0.70      0.69      0.69       157\n",
      "weighted avg       0.70      0.70      0.70       157\n",
      "\n",
      "Recall:0.7586206896551724\n",
      "F1 score:0.7374301675977654\n"
     ]
    }
   ],
   "source": [
    "#Final model (F1)\n",
    "pca= PCA(n_components=compt_opt_2, whiten=True)\n",
    "X_train_pca= pca.fit_transform(X_train)\n",
    "X_test_pca= pca.transform(X_test)\n",
    "X_val_pca= pca.transform(X_val)\n",
    "svc= SVC(C=c_opt_2, gamma=gamma_opt_2, kernel='rbf', class_weight='balanced')\n",
    "svc.fit(X_train_pca, y_train)\n",
    "y_pred= svc.predict(X_test_pca)\n",
    "cm= confusion_matrix(y_test, y_pred)\n",
    "report= classification_report(y_test, y_pred)\n",
    "print(cm)\n",
    "print(report)\n",
    "\n",
    "tn, fp, fn, tp = cm.ravel()\n",
    "recall= float(tp) / (tp + fn)\n",
    "print('Recall:{}'.format(recall))\n",
    "f1= f1_score(y_test, y_pred)\n",
    "print('F1 score:{}'.format(f1))\n"
   ]
  },
  {
   "cell_type": "code",
   "execution_count": 22,
   "metadata": {},
   "outputs": [
    {
     "name": "stdout",
     "output_type": "stream",
     "text": [
      "ROC curve with best recall parameters\n"
     ]
    },
    {
     "data": {
      "image/png": "[encoded data removed]",
      "text/plain": [
       "<Figure size 432x288 with 1 Axes>"
      ]
     },
     "metadata": {
      "needs_background": "light"
     },
     "output_type": "display_data"
    },
    {
     "name": "stdout",
     "output_type": "stream",
     "text": [
      "ROC curve with best F1 parameters\n"
     ]
    },
    {
     "data": {
      "image/png": "[encoded data removed]",
      "text/plain": [
       "<Figure size 432x288 with 1 Axes>"
      ]
     },
     "metadata": {
      "needs_background": "light"
     },
     "output_type": "display_data"
    }
   ],
   "source": [
    "#ROC curve with recall-centered model \n",
    "pca= PCA(n_components=compt_opt_1, whiten=True)\n",
    "X_train_pca= pca.fit_transform(X_train)\n",
    "X_test_pca= pca.transform(X_test)\n",
    "X_val_pca= pca.transform(X_val)\n",
    "model1= SVC(C=c_opt_1, gamma=gamma_opt_1, kernel='rbf', class_weight='balanced')\n",
    "model1.fit(X_train_pca, y_train)\n",
    "y_score= model1.decision_function(X_test_pca)\n",
    "fpr, tpr, _ = roc_curve(y_test, y_score, drop_intermediate=True)\n",
    "roc_auc = auc(fpr, tpr)\n",
    "print('ROC curve with best recall parameters')\n",
    "plt.figure()\n",
    "plt.plot(fpr, tpr, color='darkorange', lw=2, label='ROC curve (area = %0.2f)' % roc_auc)\n",
    "plt.plot([0, 1], [0, 1], color='navy', lw=2, linestyle='--')\n",
    "plt.xlim([0.0, 1.0])\n",
    "plt.ylim([0.0, 1.05])\n",
    "plt.xlabel('False Positive Rate')\n",
    "plt.ylabel('True Positive Rate')\n",
    "plt.title('Receiver operating characteristic example')\n",
    "plt.legend(loc=\"lower right\")\n",
    "plt.savefig('roc_svc_2.png')\n",
    "plt.show()\n",
    "\n",
    "\n",
    "#ROC curve with F1-centered model \n",
    "pca= PCA(n_components=compt_opt_2, whiten=True)\n",
    "X_train_pca= pca.fit_transform(X_train)\n",
    "X_test_pca= pca.transform(X_test)\n",
    "X_val_pca= pca.transform(X_val)\n",
    "model2= SVC(C=c_opt_2, gamma=gamma_opt_2, kernel='rbf', class_weight='balanced')\n",
    "model2.fit(X_train_pca, y_train)\n",
    "y_score1= model2.decision_function(X_test_pca)\n",
    "fpr, tpr, _ = roc_curve(y_test, y_score1, drop_intermediate=True)\n",
    "roc_auc = auc(fpr, tpr)\n",
    "print('ROC curve with best F1 parameters')\n",
    "plt.figure()\n",
    "plt.plot(fpr, tpr, color='darkorange', lw=2, label='ROC curve (area = %0.2f)' % roc_auc)\n",
    "plt.plot([0, 1], [0, 1], color='navy', lw=2, linestyle='--')\n",
    "plt.xlim([0.0, 1.0])\n",
    "plt.ylim([0.0, 1.05])\n",
    "plt.xlabel('False Positive Rate')\n",
    "plt.ylabel('True Positive Rate')\n",
    "plt.title('Receiver operating characteristic example')\n",
    "plt.legend(loc=\"lower right\")\n",
    "plt.savefig('roc_svc_f1.png')\n",
    "plt.show()"
   ]
  },
  {
   "cell_type": "code",
   "execution_count": 20,
   "metadata": {},
   "outputs": [],
   "source": [
    "#dict= {'y_score': y_score, 'y_test': y_test}\n",
    "#df_o= pd.DataFrame.from_dict(dict)\n",
    "#df_o.to_csv('svc_results_2.csv')"
   ]
  },
  {
   "cell_type": "markdown",
   "metadata": {},
   "source": []
  }
 ],
 "metadata": {
  "kernelspec": {
   "display_name": "base",
   "language": "python",
   "name": "python3"
  },
  "language_info": {
   "codemirror_mode": {
    "name": "ipython",
    "version": 3
   },
   "file_extension": ".py",
   "mimetype": "text/x-python",
   "name": "python",
   "nbconvert_exporter": "python",
   "pygments_lexer": "ipython3",
   "version": "3.9.12"
  },
  "orig_nbformat": 4,
  "vscode": {
   "interpreter": {
    "hash": "6c0453e26b24401ab92fc4c9258d0e6c3ac378e13e0e842060a1489ed820d196"
   }
  }
 },
 "nbformat": 4,
 "nbformat_minor": 2
}
